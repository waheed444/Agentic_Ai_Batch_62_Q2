{
  "nbformat": 4,
  "nbformat_minor": 0,
  "metadata": {
    "colab": {
      "provenance": [],
      "authorship_tag": "ABX9TyObcNlvIfKS5M7ZgMD/6Xbh",
      "include_colab_link": true
    },
    "kernelspec": {
      "name": "python3",
      "display_name": "Python 3"
    },
    "language_info": {
      "name": "python"
    }
  },
  "cells": [
    {
      "cell_type": "markdown",
      "metadata": {
        "id": "view-in-github",
        "colab_type": "text"
      },
      "source": [
        "<a href=\"https://colab.research.google.com/github/waheed444/Agentic_Ai_Batch_62_Q2/blob/main/Langchain_Integrating_Project_01.ipynb\" target=\"_parent\"><img src=\"https://colab.research.google.com/assets/colab-badge.svg\" alt=\"Open In Colab\"/></a>"
      ]
    },
    {
      "cell_type": "markdown",
      "source": [
        "### Configure the API Key"
      ],
      "metadata": {
        "id": "zyD2eo4PFbRW"
      }
    },
    {
      "cell_type": "code",
      "execution_count": 8,
      "metadata": {
        "colab": {
          "base_uri": "https://localhost:8080/"
        },
        "id": "-qrGsPvICtHo",
        "outputId": "67401699-92d3-4b88-fc7c-d4954a40c43d"
      },
      "outputs": [
        {
          "output_type": "stream",
          "name": "stdout",
          "text": [
            "API Key is  found\n"
          ]
        }
      ],
      "source": [
        "from google.colab import userdata\n",
        "GEMINI_API_KEY = userdata.get('GOOGLE_API_KEY')\n",
        "if(GEMINI_API_KEY):\n",
        "  print(\"API Key is  found\")\n",
        "else:\n",
        "  print(\"API Key is not found\")\n"
      ]
    },
    {
      "cell_type": "markdown",
      "source": [
        "### Install Prerequisites"
      ],
      "metadata": {
        "id": "KEZjL7X_GoLp"
      }
    },
    {
      "cell_type": "code",
      "source": [
        "!pip install -q -U langchain_google_genai\n"
      ],
      "metadata": {
        "id": "GxQRM05MGjby"
      },
      "execution_count": 9,
      "outputs": []
    },
    {
      "cell_type": "markdown",
      "source": [
        "### Import Libraries"
      ],
      "metadata": {
        "id": "B0FFBmu5Yi3g"
      }
    },
    {
      "cell_type": "code",
      "source": [
        "from langchain_google_genai import ChatGoogleGenerativeAI"
      ],
      "metadata": {
        "id": "woLNV1FMJQEj"
      },
      "execution_count": 10,
      "outputs": []
    },
    {
      "cell_type": "markdown",
      "source": [
        "### Configure the Gemini Flash Model"
      ],
      "metadata": {
        "id": "xW5wkcjwSakg"
      }
    },
    {
      "cell_type": "code",
      "source": [
        "llm = ChatGoogleGenerativeAI(\n",
        "    api_key = GEMINI_API_KEY,\n",
        "    model = \"gemini-1.5-flash\",\n",
        "    temperature=0.8,\n",
        "    token= 50\n",
        ")"
      ],
      "metadata": {
        "id": "f0K5RfzOJrAm"
      },
      "execution_count": 11,
      "outputs": []
    },
    {
      "cell_type": "markdown",
      "source": [
        "### Generate Response using Gemini Flash"
      ],
      "metadata": {
        "id": "UkZv8s6yG8L4"
      }
    },
    {
      "cell_type": "code",
      "source": [
        "response = llm.invoke(\"What is Agentic AI and its scope in 2025\")\n",
        "\n",
        "if response:\n",
        "    paragraph_response = \" \".join(response.content.split())\n",
        "    print(paragraph_response)\n",
        "else:\n",
        "    print(\"No response received.\")"
      ],
      "metadata": {
        "id": "zq_M5hDFG7X3",
        "colab": {
          "base_uri": "https://localhost:8080/"
        },
        "outputId": "d1068640-1036-4e35-e624-969dd90624d3"
      },
      "execution_count": 12,
      "outputs": [
        {
          "output_type": "stream",
          "name": "stdout",
          "text": [
            "Agentic AI refers to artificial intelligence systems that can act autonomously and pursue goals in the world. Unlike reactive AI systems that simply respond to inputs, or even goal-oriented AI that optimizes for a specific objective within a defined environment, agentic AI exhibits characteristics like: * **Proactive behavior:** It doesn't just react; it initiates actions to achieve its goals. * **Planning and strategizing:** It can anticipate consequences and adapt its actions accordingly. * **Learning and adaptation:** It can learn from its experiences and improve its performance over time. * **Goal-directed behavior:** It has its own internal goals or motivations that it actively tries to fulfill. * **Interaction with the environment:** It actively engages with and manipulates its environment to achieve its goals. **Scope of Agentic AI in 2025:** By 2025, the scope of agentic AI will likely be significantly broader than it is today, but still relatively limited compared to science fiction portrayals. We're unlikely to see truly general-purpose agentic AI capable of independent, human-level reasoning and action in diverse contexts. However, we can expect progress in several areas: * **Robotics:** More sophisticated robots capable of navigating complex environments, performing intricate tasks (like assembly, maintenance, or even surgery), and adapting to unexpected situations. Think of robots that can autonomously restock shelves in a warehouse or assist in disaster relief scenarios. * **Autonomous driving:** Continued advancements in self-driving cars, moving beyond basic lane-keeping and adaptive cruise control towards fully autonomous navigation in diverse and unpredictable conditions. * **Personalized AI assistants:** AI assistants that are more proactive and capable of anticipating user needs, managing tasks, and providing more complex assistance. This could include personalized learning experiences, health management, and financial planning. * **Automated decision-making systems:** In areas like finance, logistics, and resource management, we can expect to see more sophisticated AI systems making autonomous decisions based on complex data analysis and prediction. * **Game AI:** Significant improvements in the ability of AI agents to play complex games strategically and adapt to human opponents, potentially blurring the lines between human and AI gameplay. * **Scientific discovery:** AI could play a larger role in automating experiments, analyzing data, and generating hypotheses in scientific research. **Limitations in 2025:** Despite the progress, significant limitations will likely remain: * **Robustness and safety:** Ensuring the reliability and safety of agentic AI systems in real-world scenarios will remain a major challenge. Unexpected situations and unforeseen consequences could lead to undesirable outcomes. * **Explainability and interpretability:** Understanding *why* an agentic AI system makes certain decisions will continue to be crucial, especially in high-stakes applications. The \"black box\" nature of many AI models poses a significant hurdle. * **Ethical concerns:** Issues surrounding bias, fairness, accountability, and the potential for misuse will need careful consideration and regulation. * **Generalization:** Agentic AI systems will likely still struggle with generalizing their abilities across different domains and adapting to completely novel situations. In summary, by 2025, we'll see a wider deployment of agentic AI in specific, well-defined domains, but the development of truly general-purpose, human-level agentic AI remains a long-term goal. The focus will be on addressing the challenges of robustness, safety, explainability, and ethical considerations to ensure responsible and beneficial development and deployment.\n"
          ]
        }
      ]
    }
  ]
}