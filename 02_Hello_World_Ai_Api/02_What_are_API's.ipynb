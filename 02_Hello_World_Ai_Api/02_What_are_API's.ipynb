{
  "nbformat": 4,
  "nbformat_minor": 0,
  "metadata": {
    "colab": {
      "provenance": []
    },
    "kernelspec": {
      "name": "python3",
      "display_name": "Python 3"
    },
    "language_info": {
      "name": "python"
    }
  },
  "cells": [
    {
      "cell_type": "markdown",
      "source": [
        "# **Application Programming Interfaces (API's)**"
      ],
      "metadata": {
        "id": "54doL-LCpE-V"
      }
    },
    {
      "cell_type": "markdown",
      "source": [
        "APIs, or **Application Programming Interfaces**, are like messengers that allow different software applications to talk to each other. Let’s break it down with a simple analogy:\n"
      ],
      "metadata": {
        "id": "rYVZZHyLo80I"
      }
    },
    {
      "cell_type": "markdown",
      "source": [
        "## **Understanding APIs: A Beginner-Friendly Analogy**\n",
        "\n",
        "APIs (Application Programming Interfaces) act as messengers that enable software applications to communicate with each other. They process requests and return responses, simplifying interactions without exposing the system's inner workings. APIs save time by providing ready-to-use functionality, such as fetching weather data or integrating payment systems."
      ],
      "metadata": {
        "id": "xCm7CppgqvkR"
      }
    },
    {
      "cell_type": "markdown",
      "source": [
        "### **Think of a Restaurant:**\n",
        "Imagine you're at a restaurant. You have a menu that shows all the dishes you can order. You tell the waiter what you want, and they take your request to the kitchen. The chef in the kitchen prepares your food, and the waiter brings it back to your table.\n",
        "\n",
        "Here's how that relates to APIs:\n",
        "\n",
        "- **You**: The user or your application.\n",
        "- **Menu**: The API documentation, which lists all the available services or actions you can request.\n",
        "- **Waiter**: The API itself, which takes your request, sends it to the system (the \"kitchen\"), and brings back the result.\n",
        "- **Kitchen**: The server or system that processes your request and does the work."
      ],
      "metadata": {
        "id": "upXT6wyspXwt"
      }
    },
    {
      "cell_type": "markdown",
      "source": [
        "### **What Does an API Do?**\n",
        "An API allows two systems to interact without you needing to know the details of how everything works behind the scenes. For example:\n",
        "\n",
        "- When you check the weather in a mobile app, it uses an API to fetch weather data from a server.\n",
        "- When you pay online, the app uses an API to communicate with a payment gateway."
      ],
      "metadata": {
        "id": "1UJULmYnpwG4"
      }
    },
    {
      "cell_type": "markdown",
      "source": [
        "### **Key Points for Beginners:**\n",
        "1. **Request and Response**: APIs work through requests (you asking for something) and responses (the system sending something back).\n",
        "2. **Data Format**: APIs typically exchange data in formats like JSON, which are easy for computers to understand.\n",
        "3. **Types of APIs**:\n",
        "   - **Web APIs**: Used for websites and apps to communicate over the internet.\n",
        "   - **Library APIs**: Let programs use features of a library (a collection of code) in programming.\n",
        "4. **Example**: If you build an app and want it to show maps, you might use the Google Maps API to display maps in your app."
      ],
      "metadata": {
        "id": "RNWeNq4Rp5OC"
      }
    },
    {
      "cell_type": "markdown",
      "source": [
        "### **Why Are APIs Important?**\n",
        "They save time and effort! Instead of building everything from scratch, you can use existing APIs to add powerful features to your app or software."
      ],
      "metadata": {
        "id": "JmpadNPdpOnh"
      }
    },
    {
      "cell_type": "markdown",
      "source": [
        "## **Coding Examples**"
      ],
      "metadata": {
        "id": "jty8SGfvrRnA"
      }
    },
    {
      "cell_type": "markdown",
      "source": [
        "The purpose of these examples is to become familiar with APIs and how to use them in our code. At this stage, there is no need to focus on understanding the code in detail."
      ],
      "metadata": {
        "id": "ojfoXkzO3GQt"
      }
    },
    {
      "cell_type": "markdown",
      "source": [
        "### **Web API:  Fetching and Displaying Random User Data**"
      ],
      "metadata": {
        "id": "XzwjT5jurz6W"
      }
    },
    {
      "cell_type": "code",
      "source": [
        "import requests\n",
        "from datetime import datetime\n",
        "from IPython.display import Image\n",
        "from IPython.display import display, HTML\n",
        "\n",
        "# API Endpoint\n",
        "url = \"https://randomuser.me/api/\"\n",
        "\n",
        "# Make a GET request to fetch a random user\n",
        "response = requests.get(url)\n",
        "\n",
        "# Check if the request was successful\n",
        "if response.status_code == 200:\n",
        "    # Parse the JSON response\n",
        "    data = response.json()\n",
        "    user = data['results'][0]  # Extract the first user\n",
        "\n",
        "    # Format the data into an HTML table\n",
        "    html_content = f\"\"\"\n",
        "      <div style=\"font-family: Arial, sans-serif; max-width: 600px; margin: auto; border: 1px solid #ddd; padding: 20px; border-radius: 10px;\">\n",
        "          <h2 style=\"text-align: center; color: #333;\">User Profile</h2>\n",
        "          <div style=\"text-align: center;\">\n",
        "              <img src=\"{user['picture']['large']}\" alt=\"Profile Picture\" style=\"border-radius: 50%; width: 150px; height: 150px;\">\n",
        "          </div>\n",
        "          <table style=\"width: 100%; margin-top: 20px; border-collapse: collapse;\">\n",
        "              <tr style=\"background-color: #f2f2f2;\">\n",
        "                  <th style=\"text-align: left; padding: 8px; border: 1px solid #ddd;\">Field</th>\n",
        "                  <th style=\"text-align: left; padding: 8px; border: 1px solid #ddd;\">Value</th>\n",
        "              </tr>\n",
        "              <tr>\n",
        "                  <td style=\"padding: 8px; border: 1px solid #ddd;\">ID</td>\n",
        "                  <td style=\"padding: 8px; border: 1px solid #ddd;\">{user['id']['name']} {user['id']['value']}</td>\n",
        "              </tr>\n",
        "              <tr>\n",
        "                  <td style=\"padding: 8px; border: 1px solid #ddd;\">Date of Registration</td>\n",
        "                  <td style=\"padding: 8px; border: 1px solid #ddd;\">{user['registered']['date'][:10]} (Age: {user['registered']['age']})</td>\n",
        "              </tr>\n",
        "              <tr>\n",
        "                  <td style=\"padding: 8px; border: 1px solid #ddd;\">Name</td>\n",
        "                  <td style=\"padding: 8px; border: 1px solid #ddd;\">{user['name']['title']} {user['name']['first']} {user['name']['last']}</td>\n",
        "              </tr>\n",
        "              <tr>\n",
        "                  <td style=\"padding: 8px; border: 1px solid #ddd;\">Gender</td>\n",
        "                  <td style=\"padding: 8px; border: 1px solid #ddd;\">{user['gender']}</td>\n",
        "              </tr>\n",
        "              <tr>\n",
        "                  <td style=\"padding: 8px; border: 1px solid #ddd;\">Email</td>\n",
        "                  <td style=\"padding: 8px; border: 1px solid #ddd;\">{user['email']}</td>\n",
        "              </tr>\n",
        "              <tr>\n",
        "                  <td style=\"padding: 8px; border: 1px solid #ddd;\">Username</td>\n",
        "                  <td style=\"padding: 8px; border: 1px solid #ddd;\">{user['login']['username']}</td>\n",
        "              </tr>\n",
        "              <tr>\n",
        "                  <td style=\"padding: 8px; border: 1px solid #ddd;\">Password</td>\n",
        "                  <td style=\"padding: 8px; border: 1px solid #ddd;\">{user['login']['password']}</td>\n",
        "              </tr>\n",
        "              <tr>\n",
        "                  <td style=\"padding: 8px; border: 1px solid #ddd;\">Date of Birth</td>\n",
        "                  <td style=\"padding: 8px; border: 1px solid #ddd;\">{user['dob']['date'][:10]} (Age: {user['dob']['age']})</td>\n",
        "              </tr>\n",
        "              <tr>\n",
        "                  <td style=\"padding: 8px; border: 1px solid #ddd;\">Phone</td>\n",
        "                  <td style=\"padding: 8px; border: 1px solid #ddd;\">{user['phone']}</td>\n",
        "              </tr>\n",
        "              <tr>\n",
        "                  <td style=\"padding: 8px; border: 1px solid #ddd;\">Cell</td>\n",
        "                  <td style=\"padding: 8px; border: 1px solid #ddd;\">{user['cell']}</td>\n",
        "              </tr>\n",
        "              <tr>\n",
        "                  <td style=\"padding: 8px; border: 1px solid #ddd;\">Address</td>\n",
        "                  <td style=\"padding: 8px; border: 1px solid #ddd;\">\n",
        "                      {user['location']['street']['number']} {user['location']['street']['name']},\n",
        "                      {user['location']['city']}, {user['location']['state']},\n",
        "                      {user['location']['country']} ({user['location']['postcode']})\n",
        "                  </td>\n",
        "              </tr>\n",
        "              <tr>\n",
        "                  <td style=\"padding: 8px; border: 1px solid #ddd;\">Coordinates</td>\n",
        "                  <td style=\"padding: 8px; border: 1px solid #ddd;\">\n",
        "                      Latitude: {user['location']['coordinates']['latitude']},\n",
        "                      Longitude: {user['location']['coordinates']['longitude']}\n",
        "                  </td>\n",
        "              </tr>\n",
        "              <tr>\n",
        "                  <td style=\"padding: 8px; border: 1px solid #ddd;\">Timezone</td>\n",
        "                  <td style=\"padding: 8px; border: 1px solid #ddd;\">\n",
        "                      {user['location']['timezone']['description']} (Offset: {user['location']['timezone']['offset']})\n",
        "                  </td>\n",
        "              </tr>\n",
        "              <tr>\n",
        "                  <td style=\"padding: 8px; border: 1px solid #ddd;\">Nationality</td>\n",
        "                  <td style=\"padding: 8px; border: 1px solid #ddd;\">{user['nat']}</td>\n",
        "              </tr>\n",
        "          </table>\n",
        "      </div>\n",
        "    \"\"\"\n",
        "\n",
        "    # Display the organized HTML content\n",
        "    display(HTML(html_content))\n",
        "else:\n",
        "    print(f\"Failed to fetch data. Status Code: {response.status_code}\")\n"
      ],
      "metadata": {
        "colab": {
          "base_uri": "https://localhost:8080/",
          "height": 797
        },
        "id": "HcDkEpWDrwzo",
        "outputId": "f7da802c-4802-4495-bc19-6a85724a1656"
      },
      "execution_count": null,
      "outputs": [
        {
          "output_type": "display_data",
          "data": {
            "text/plain": [
              "<IPython.core.display.HTML object>"
            ],
            "text/html": [
              "\n",
              "      <div style=\"font-family: Arial, sans-serif; max-width: 600px; margin: auto; border: 1px solid #ddd; padding: 20px; border-radius: 10px;\">\n",
              "          <h2 style=\"text-align: center; color: #333;\">User Profile</h2>\n",
              "          <div style=\"text-align: center;\">\n",
              "              <img src=\"https://randomuser.me/api/portraits/men/46.jpg\" alt=\"Profile Picture\" style=\"border-radius: 50%; width: 150px; height: 150px;\">\n",
              "          </div>\n",
              "          <table style=\"width: 100%; margin-top: 20px; border-collapse: collapse;\">\n",
              "              <tr style=\"background-color: #f2f2f2;\">\n",
              "                  <th style=\"text-align: left; padding: 8px; border: 1px solid #ddd;\">Field</th>\n",
              "                  <th style=\"text-align: left; padding: 8px; border: 1px solid #ddd;\">Value</th>\n",
              "              </tr>\n",
              "              <tr>\n",
              "                  <td style=\"padding: 8px; border: 1px solid #ddd;\">ID</td>\n",
              "                  <td style=\"padding: 8px; border: 1px solid #ddd;\">SSN 361-42-6533</td>\n",
              "              </tr>\n",
              "              <tr>\n",
              "                  <td style=\"padding: 8px; border: 1px solid #ddd;\">Date of Registration</td>\n",
              "                  <td style=\"padding: 8px; border: 1px solid #ddd;\">2021-05-04 (Age: 3)</td>\n",
              "              </tr>\n",
              "              <tr>\n",
              "                  <td style=\"padding: 8px; border: 1px solid #ddd;\">Name</td>\n",
              "                  <td style=\"padding: 8px; border: 1px solid #ddd;\">Mr Richard Moore</td>\n",
              "              </tr>\n",
              "              <tr>\n",
              "                  <td style=\"padding: 8px; border: 1px solid #ddd;\">Gender</td>\n",
              "                  <td style=\"padding: 8px; border: 1px solid #ddd;\">male</td>\n",
              "              </tr>\n",
              "              <tr>\n",
              "                  <td style=\"padding: 8px; border: 1px solid #ddd;\">Email</td>\n",
              "                  <td style=\"padding: 8px; border: 1px solid #ddd;\">richard.moore@example.com</td>\n",
              "              </tr>\n",
              "              <tr>\n",
              "                  <td style=\"padding: 8px; border: 1px solid #ddd;\">Username</td>\n",
              "                  <td style=\"padding: 8px; border: 1px solid #ddd;\">redostrich545</td>\n",
              "              </tr>\n",
              "              <tr>\n",
              "                  <td style=\"padding: 8px; border: 1px solid #ddd;\">Password</td>\n",
              "                  <td style=\"padding: 8px; border: 1px solid #ddd;\">blue42</td>\n",
              "              </tr>\n",
              "              <tr>\n",
              "                  <td style=\"padding: 8px; border: 1px solid #ddd;\">Date of Birth</td>\n",
              "                  <td style=\"padding: 8px; border: 1px solid #ddd;\">1984-04-25 (Age: 40)</td>\n",
              "              </tr>\n",
              "              <tr>\n",
              "                  <td style=\"padding: 8px; border: 1px solid #ddd;\">Phone</td>\n",
              "                  <td style=\"padding: 8px; border: 1px solid #ddd;\">(516) 771-5641</td>\n",
              "              </tr>\n",
              "              <tr>\n",
              "                  <td style=\"padding: 8px; border: 1px solid #ddd;\">Cell</td>\n",
              "                  <td style=\"padding: 8px; border: 1px solid #ddd;\">(637) 488-8442</td>\n",
              "              </tr>\n",
              "              <tr>\n",
              "                  <td style=\"padding: 8px; border: 1px solid #ddd;\">Address</td>\n",
              "                  <td style=\"padding: 8px; border: 1px solid #ddd;\">\n",
              "                      5346 Hunters Creek Dr, \n",
              "                      Boston, New York, \n",
              "                      United States (36743)\n",
              "                  </td>\n",
              "              </tr>\n",
              "              <tr>\n",
              "                  <td style=\"padding: 8px; border: 1px solid #ddd;\">Coordinates</td>\n",
              "                  <td style=\"padding: 8px; border: 1px solid #ddd;\">\n",
              "                      Latitude: 88.7743, \n",
              "                      Longitude: -54.9383\n",
              "                  </td>\n",
              "              </tr>\n",
              "              <tr>\n",
              "                  <td style=\"padding: 8px; border: 1px solid #ddd;\">Timezone</td>\n",
              "                  <td style=\"padding: 8px; border: 1px solid #ddd;\">\n",
              "                      Midway Island, Samoa (Offset: -11:00)\n",
              "                  </td>\n",
              "              </tr>\n",
              "              <tr>\n",
              "                  <td style=\"padding: 8px; border: 1px solid #ddd;\">Nationality</td>\n",
              "                  <td style=\"padding: 8px; border: 1px solid #ddd;\">US</td>\n",
              "              </tr>\n",
              "          </table>\n",
              "      </div>\n",
              "    "
            ]
          },
          "metadata": {}
        }
      ]
    },
    {
      "cell_type": "markdown",
      "source": [
        "### **Library API: Using the math Library for Calculations**"
      ],
      "metadata": {
        "id": "85QggdrO2bf1"
      }
    },
    {
      "cell_type": "code",
      "source": [
        "import math\n",
        "\n",
        "# Using the math library to perform some calculations\n",
        "number = 25\n",
        "\n",
        "# Find square root\n",
        "sqrt_result = math.sqrt(number)\n",
        "print(f\"The square root of {number} is {sqrt_result}\")\n",
        "\n",
        "# Calculate sine of 90 degrees (converted to radians)\n",
        "angle_degrees = 90\n",
        "angle_radians = math.radians(angle_degrees)\n",
        "sine_result = math.sin(angle_radians)\n",
        "print(f\"The sine of {angle_degrees} degrees is {sine_result}\")\n",
        "\n",
        "# Calculate the value of Pi\n",
        "print(f\"The value of Pi is approximately {math.pi}\")\n"
      ],
      "metadata": {
        "colab": {
          "base_uri": "https://localhost:8080/"
        },
        "id": "xIwP8Voi2moQ",
        "outputId": "89098f8c-fa89-4735-f1d9-0e3963ed8a3c"
      },
      "execution_count": null,
      "outputs": [
        {
          "output_type": "stream",
          "name": "stdout",
          "text": [
            "The square root of 25 is 5.0\n",
            "The sine of 90 degrees is 1.0\n",
            "The value of Pi is approximately 3.141592653589793\n"
          ]
        }
      ]
    },
    {
      "cell_type": "markdown",
      "source": [
        "---"
      ],
      "metadata": {
        "id": "koTE50R_21Go"
      }
    }
  ]
}