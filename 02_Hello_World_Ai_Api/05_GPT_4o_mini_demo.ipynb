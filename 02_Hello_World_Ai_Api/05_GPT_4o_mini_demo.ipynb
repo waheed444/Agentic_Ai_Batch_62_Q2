{
  "nbformat": 4,
  "nbformat_minor": 0,
  "metadata": {
    "colab": {
      "provenance": [],
      "toc_visible": true
    },
    "kernelspec": {
      "name": "python3",
      "display_name": "Python 3"
    },
    "language_info": {
      "name": "python"
    }
  },
  "cells": [
    {
      "cell_type": "markdown",
      "source": [
        "# **OpenAI API Demo**\n"
      ],
      "metadata": {
        "id": "C_oVrW19pha3"
      }
    },
    {
      "cell_type": "markdown",
      "source": [
        "ChatGPT is a powerful tool we've been using on the OpenAI platform to interact, ask questions, and get intelligent responses. While the platform is highly useful for many tasks, it doesn't allow us to integrate ChatGPT directly into our code.\n",
        "\n",
        "In this demo, we'll explore how to use the OpenAI API to bring the capabilities of a large language model (LLM) into our own applications. This approach enables us to harness the power of OpenAI's technology programmatically, making it a versatile addition to our projects."
      ],
      "metadata": {
        "id": "klAChLCk0VP_"
      }
    },
    {
      "cell_type": "markdown",
      "source": [
        "## **Installing the OpenAI SDK**"
      ],
      "metadata": {
        "id": "h-D5MCQP0XXP"
      }
    },
    {
      "cell_type": "markdown",
      "source": [
        "To use the OpenAI API in Python, we will use the official OpenAI SDK for Python. This SDK simplifies the process of interacting with the API in your Python applications.\n",
        "- [OpenAI Python SDK](https://github.com/openai/openai-python)"
      ],
      "metadata": {
        "id": "ICdRh8vJ1IZU"
      }
    },
    {
      "cell_type": "code",
      "source": [
        "# Install or upgrade the OpenAI Python library.\n",
        "# The `--upgrade` flag ensures you have the latest version.\n",
        "# The `--quiet` flag suppresses unnecessary output during installation.\n",
        "# The `!` (or `%` for line magics) is used in Colab or Jupyter notebooks to execute shell commands.\n",
        "# In this case, it runs the `pip` command to manage Python packages.\n",
        "\n",
        "!pip install --upgrade --quiet openai"
      ],
      "metadata": {
        "colab": {
          "base_uri": "https://localhost:8080/"
        },
        "id": "LRBkHdya1DSo",
        "outputId": "4b8602a2-d28a-4f51-aca2-cd033dacdd1c"
      },
      "execution_count": null,
      "outputs": [
        {
          "output_type": "stream",
          "name": "stdout",
          "text": [
            "\u001b[?25l   \u001b[90m━━━━━━━━━━━━━━━━━━━━━━━━━━━━━━━━━━━━━━━━\u001b[0m \u001b[32m0.0/389.9 kB\u001b[0m \u001b[31m?\u001b[0m eta \u001b[36m-:--:--\u001b[0m\r\u001b[2K   \u001b[91m━━━━━━━━━━━━━━━━━━━━━━━━━━━━\u001b[0m\u001b[90m╺\u001b[0m\u001b[90m━━━━━━━━━━━\u001b[0m \u001b[32m276.5/389.9 kB\u001b[0m \u001b[31m8.6 MB/s\u001b[0m eta \u001b[36m0:00:01\u001b[0m\r\u001b[2K   \u001b[90m━━━━━━━━━━━━━━━━━━━━━━━━━━━━━━━━━━━━━━━━\u001b[0m \u001b[32m389.9/389.9 kB\u001b[0m \u001b[31m7.0 MB/s\u001b[0m eta \u001b[36m0:00:00\u001b[0m\n",
            "\u001b[?25h"
          ]
        }
      ]
    },
    {
      "cell_type": "markdown",
      "source": [
        "## **Get and Setup Your API Key**\n",
        "\n",
        "The first step in using the OpenAI API is to obtain an API key and configure it in your Colab environment. Since ChatGPT is a paid service, only authenticated users can access the API using their unique key."
      ],
      "metadata": {
        "id": "2kQ98ywg2pTv"
      }
    },
    {
      "cell_type": "markdown",
      "source": [
        "### **Step 1: Obtain Your API Key**\n",
        "1. Visit the [OpenAI API platform](https://platform.openai.com/signup/).\n",
        "2. Sign in or create an account if you don't already have one.\n",
        "3. Navigate to the **API Keys** section in the dashboard.\n",
        "4. Generate a new API key and copy it. Keep this key secure, as it provides access to your account's API usage."
      ],
      "metadata": {
        "id": "MbJSUFmV7XYW"
      }
    },
    {
      "cell_type": "markdown",
      "source": [
        "### **Step 2: Set Up the API Key in Colab**\n",
        "To use the API key securely in your Colab notebook:\n",
        "1. Store the key in an environment variable for secure access.\n",
        "2. You need to grant Notebook access to use this stored key in the code"
      ],
      "metadata": {
        "id": "_Lokcgbq7aei"
      }
    },
    {
      "cell_type": "code",
      "source": [
        "# Import the `userdata` module from `google.colab` to access user-specific data.\n",
        "from google.colab import userdata\n",
        "\n",
        "# Get the OpenAI API key from user data and store it in the `OPENAI_API_KEY` variable.\n",
        "# The key is expected to be stored under the key 'OPENAI_API_KEY'.\n",
        "# We use type hinting to specify that the variable should hold a string value.\n",
        "OPENAI_API_KEY: str = userdata.get('OPENAI_API_KEY')\n",
        "\n",
        "# Check if the API key was successfully retrieved.\n",
        "if OPENAI_API_KEY:\n",
        "  # If the key is found, print a success message.\n",
        "  print(\"API key fetched successfully!\")\n",
        "else:\n",
        "  # If the key is not found, print an error message and instructions for the user.\n",
        "  print(\"API key not found. Please set the 'OPENAI_API_KEY' user data.\")"
      ],
      "metadata": {
        "colab": {
          "base_uri": "https://localhost:8080/"
        },
        "id": "LUUT-FVez2lq",
        "outputId": "5e8ff4a9-c0ec-4fe7-8e67-cf4c0dfe86ca"
      },
      "execution_count": null,
      "outputs": [
        {
          "output_type": "stream",
          "name": "stdout",
          "text": [
            "API key fetched successfully!\n"
          ]
        }
      ]
    },
    {
      "cell_type": "markdown",
      "source": [
        "## **Configure the OpenAI SDK**\n",
        "\n",
        "Now that we have installed the OpenAI SDK and obtained an API key, the next step is to configure the SDK to use the key. This setup ensures that our code can authenticate with OpenAI's servers and make API requests.\n"
      ],
      "metadata": {
        "id": "lq9jwNFr5w5t"
      }
    },
    {
      "cell_type": "markdown",
      "source": [
        "### **Why Configure?**\n",
        "Configuring the SDK with your API key:\n",
        "\n",
        "1. Authenticates your application with OpenAI's services.\n",
        "2. Allows you to send requests and receive responses securely.\n",
        "3. Simplifies API usage in your Python scripts or notebooks."
      ],
      "metadata": {
        "id": "uuxYRB2-7Nuc"
      }
    },
    {
      "cell_type": "code",
      "source": [
        "# Import the OpenAI class for API interaction\n",
        "from openai import OpenAI\n",
        "\n",
        "# Create an instance of the OpenAI class, setting the API key for authentication.\n",
        "# The 'client' object will be used to make API calls.\n",
        "client: OpenAI = OpenAI(\n",
        "    api_key=OPENAI_API_KEY,  # Your OpenAI API key, stored securely.\n",
        ")"
      ],
      "metadata": {
        "id": "8JhuXXS87c9n"
      },
      "execution_count": null,
      "outputs": []
    },
    {
      "cell_type": "markdown",
      "source": [
        "## **Selecting an OpenAI Model**\n",
        "\n",
        "OpenAI offers several models with varying capabilities and pricing. Selecting the right model depends on your use case and budget. In this section, we'll discuss model selection and the concept of tokenization.\n",
        "\n",
        "- [Available models](https://openai.com/api/pricing/)\n",
        "\n",
        "To minimize costs while still achieving good results, we'll use **gpt-4o-mini**, which offers excellent performance at a lower price."
      ],
      "metadata": {
        "id": "Bo2fyDEZ8kxK"
      }
    },
    {
      "cell_type": "code",
      "source": [
        "model: str = \"gpt-4o-mini\"\n",
        "print(f\"Selected model: {model}\")"
      ],
      "metadata": {
        "colab": {
          "base_uri": "https://localhost:8080/"
        },
        "id": "aaVA3hty-jVf",
        "outputId": "77a16913-706c-4820-9d9b-ba02b404f638"
      },
      "execution_count": null,
      "outputs": [
        {
          "output_type": "stream",
          "name": "stdout",
          "text": [
            "Selected model: gpt-4o-mini\n"
          ]
        }
      ]
    },
    {
      "cell_type": "markdown",
      "source": [
        "## **What is Tokenization?**\n",
        "Tokenization is the process of breaking down text into smaller units (tokens) that the model can process. Tokens can represent:\n",
        "- Words\n",
        "- Parts of words\n",
        "- Special characters (like punctuation)\n",
        "\n",
        "For example:\n",
        "- The sentence `\"Hello, world!\"` is tokenized into: `[\"Hello\", \",\", \" world\", \"!\"]`.\n",
        "\n",
        "The number of tokens in your input and output determines the cost of using the API."
      ],
      "metadata": {
        "id": "JjXVYCUt_L9M"
      }
    },
    {
      "cell_type": "markdown",
      "source": [
        "### **How Tokens Impact Pricing**\n",
        "- OpenAI charges based on the number of tokens processed (input + output).\n",
        "- Models like **gpt-4o-mini** have lower costs per token compared to **gpt-4o**.\n",
        "- You can reduce costs by optimizing prompts and limiting the maximum token count."
      ],
      "metadata": {
        "id": "o9BZ078G_ltP"
      }
    },
    {
      "cell_type": "markdown",
      "source": [
        "### **Example: Estimating Tokens**\n",
        "\n",
        "- [Tokenizer](https://platform.openai.com/tokenizer)"
      ],
      "metadata": {
        "id": "-5XjSKFQ_7SL"
      }
    },
    {
      "cell_type": "markdown",
      "source": [
        "### **Why Choose Models with Lower Costs?**\n",
        "- **Efficiency**: For simpler tasks, lightweight models like `gpt-4o-mini` provide sufficient performance without unnecessary expense.\n",
        "- **Scalability**: Lower costs allow more frequent API calls within a budget.\n",
        "- **Use Case Match**: Choose models based on task complexity to balance quality and cost.\n",
        "\n",
        "By understanding tokenization and pricing, you can optimize your use of the OpenAI API for maximum efficiency and affordability."
      ],
      "metadata": {
        "id": "b-7HO3PeABzb"
      }
    },
    {
      "cell_type": "markdown",
      "source": [
        "## **Using OpenAI Chat Completion API**\n"
      ],
      "metadata": {
        "id": "T5LdAyFBAbjd"
      }
    },
    {
      "cell_type": "markdown",
      "source": [
        "### **Make a Request**"
      ],
      "metadata": {
        "id": "GYQNWe5QHxld"
      }
    },
    {
      "cell_type": "code",
      "source": [
        "# ChatCompletion used for type hinting when defining the type of the response object from the API\n",
        "from openai.types.chat.chat_completion import ChatCompletion\n",
        "\n",
        "# Initiate a chat completion request\n",
        "response: ChatCompletion = client.chat.completions.create(\n",
        "    model=model,  # Specify the OpenAI model to use\n",
        "    messages=[  # List of messages forming the conversation context\n",
        "        {\n",
        "            \"role\": \"system\",  # The role of the message\n",
        "            \"content\": \"You are a helpful assistant. Respond in Markdown format.\"  # Instructions for the system\n",
        "        },\n",
        "        {\n",
        "            \"role\": \"user\",  # The role of the message\n",
        "            \"content\": \"Explain the basics of machine learning in simple terms.\"  # The user's prompt or query\n",
        "        }\n",
        "    ],\n",
        "    temperature=0.7,  # Adjusts the randomness of the response (0.0 to 1.0)\n",
        "    max_tokens=100,  # Maximum number of tokens (words or subwords) in the response\n",
        "    top_p=1,  # Nucleus sampling, 1.0 includes all possibilities (default is 1)\n",
        "    n=2,  # Number of completions to generate (1 for a single response)\n",
        ")\n"
      ],
      "metadata": {
        "id": "dWm7dPePCnDx"
      },
      "execution_count": null,
      "outputs": []
    },
    {
      "cell_type": "markdown",
      "source": [
        "### **Parse the Response**"
      ],
      "metadata": {
        "id": "xdth6NzvH2Yr"
      }
    },
    {
      "cell_type": "code",
      "source": [
        "# Import the 'display' function from the 'IPython.display' module.\n",
        "# This function is used to display various types of content in Jupyter notebooks.\n",
        "from IPython.display import display\n",
        "display(response)"
      ],
      "metadata": {
        "colab": {
          "base_uri": "https://localhost:8080/",
          "height": 225
        },
        "id": "pmWmY8nxHm-5",
        "outputId": "a02bfcb9-2eec-4e8b-aa81-4e0f55860dd5"
      },
      "execution_count": null,
      "outputs": [
        {
          "output_type": "display_data",
          "data": {
            "text/plain": [
              "ChatCompletion(id='chatcmpl-AboMLcwMXOGy89076ppCVRrLCDstd', choices=[Choice(finish_reason='length', index=0, logprobs=None, message=ChatCompletionMessage(content='# Basics of Machine Learning\\n\\nMachine learning (ML) is a field of artificial intelligence (AI) that focuses on teaching computers to learn from data and improve their performance over time without being explicitly programmed for each task. Here are the basic concepts explained simply:\\n\\n## What is Machine Learning?\\n\\n- **Learning from Data**: Instead of following specific instructions for every task, a machine learning model learns patterns from data. For example, if we give it a lot of pictures of cats and dogs, it can', refusal=None, role='assistant', audio=None, function_call=None, tool_calls=None)), Choice(finish_reason='length', index=1, logprobs=None, message=ChatCompletionMessage(content='# Basics of Machine Learning\\n\\nMachine learning is a branch of artificial intelligence that focuses on teaching computers to learn from data and make decisions based on that data. Here are the basic concepts broken down in simple terms:\\n\\n## 1. **What is Machine Learning?**\\nMachine learning allows computers to learn from experience (data) without being explicitly programmed for every task. Instead of writing instructions for the computer, we provide it with examples, and it learns to make predictions or decisions based on those examples.\\n\\n##', refusal=None, role='assistant', audio=None, function_call=None, tool_calls=None))], created=1733575081, model='gpt-4o-mini-2024-07-18', object='chat.completion', service_tier=None, system_fingerprint='fp_bba3c8e70b', usage=CompletionUsage(completion_tokens=200, prompt_tokens=32, total_tokens=232, completion_tokens_details=CompletionTokensDetails(accepted_prediction_tokens=0, audio_tokens=0, reasoning_tokens=0, rejected_prediction_tokens=0), prompt_tokens_details=PromptTokensDetails(audio_tokens=0, cached_tokens=0)))"
            ]
          },
          "metadata": {}
        }
      ]
    },
    {
      "cell_type": "code",
      "source": [
        "display(response.choices)"
      ],
      "metadata": {
        "colab": {
          "base_uri": "https://localhost:8080/",
          "height": 191
        },
        "id": "vdMl6bfwH9DM",
        "outputId": "1fc40b99-7adc-4ba4-f00e-7f9d01bd704b"
      },
      "execution_count": null,
      "outputs": [
        {
          "output_type": "display_data",
          "data": {
            "text/plain": [
              "[Choice(finish_reason='length', index=0, logprobs=None, message=ChatCompletionMessage(content='# Basics of Machine Learning\\n\\nMachine learning (ML) is a field of artificial intelligence (AI) that focuses on teaching computers to learn from data and improve their performance over time without being explicitly programmed for each task. Here are the basic concepts explained simply:\\n\\n## What is Machine Learning?\\n\\n- **Learning from Data**: Instead of following specific instructions for every task, a machine learning model learns patterns from data. For example, if we give it a lot of pictures of cats and dogs, it can', refusal=None, role='assistant', audio=None, function_call=None, tool_calls=None)),\n",
              " Choice(finish_reason='length', index=1, logprobs=None, message=ChatCompletionMessage(content='# Basics of Machine Learning\\n\\nMachine learning is a branch of artificial intelligence that focuses on teaching computers to learn from data and make decisions based on that data. Here are the basic concepts broken down in simple terms:\\n\\n## 1. **What is Machine Learning?**\\nMachine learning allows computers to learn from experience (data) without being explicitly programmed for every task. Instead of writing instructions for the computer, we provide it with examples, and it learns to make predictions or decisions based on those examples.\\n\\n##', refusal=None, role='assistant', audio=None, function_call=None, tool_calls=None))]"
            ]
          },
          "metadata": {}
        }
      ]
    },
    {
      "cell_type": "code",
      "source": [
        "display(response.choices[0])"
      ],
      "metadata": {
        "colab": {
          "base_uri": "https://localhost:8080/",
          "height": 104
        },
        "id": "ukzB7sysImr2",
        "outputId": "6384c125-0c05-499c-b8a6-6fe7fe4a0313"
      },
      "execution_count": null,
      "outputs": [
        {
          "output_type": "display_data",
          "data": {
            "text/plain": [
              "Choice(finish_reason='length', index=0, logprobs=None, message=ChatCompletionMessage(content='# Basics of Machine Learning\\n\\nMachine learning (ML) is a field of artificial intelligence (AI) that focuses on teaching computers to learn from data and improve their performance over time without being explicitly programmed for each task. Here are the basic concepts explained simply:\\n\\n## What is Machine Learning?\\n\\n- **Learning from Data**: Instead of following specific instructions for every task, a machine learning model learns patterns from data. For example, if we give it a lot of pictures of cats and dogs, it can', refusal=None, role='assistant', audio=None, function_call=None, tool_calls=None))"
            ]
          },
          "metadata": {}
        }
      ]
    },
    {
      "cell_type": "code",
      "source": [
        "display(response.choices[0].message.content)"
      ],
      "metadata": {
        "colab": {
          "base_uri": "https://localhost:8080/",
          "height": 87
        },
        "id": "_5hO7QJxIo_Y",
        "outputId": "958b253f-4dbb-4357-d49c-7ea8fb990a6a"
      },
      "execution_count": null,
      "outputs": [
        {
          "output_type": "display_data",
          "data": {
            "text/plain": [
              "'# Basics of Machine Learning\\n\\nMachine learning (ML) is a field of artificial intelligence (AI) that focuses on teaching computers to learn from data and improve their performance over time without being explicitly programmed for each task. Here are the basic concepts explained simply:\\n\\n## What is Machine Learning?\\n\\n- **Learning from Data**: Instead of following specific instructions for every task, a machine learning model learns patterns from data. For example, if we give it a lot of pictures of cats and dogs, it can'"
            ],
            "application/vnd.google.colaboratory.intrinsic+json": {
              "type": "string"
            }
          },
          "metadata": {}
        }
      ]
    },
    {
      "cell_type": "markdown",
      "source": [
        "### **Displaying the Response**\n",
        "\n",
        "You can use the Markdown library to display the response in a well-structured format, ensuring that the content is easily readable and properly formatted. This is particularly useful when presenting information that includes headings, lists, code blocks, links, and other Markdown features."
      ],
      "metadata": {
        "id": "Q5e3UaOqLCT5"
      }
    },
    {
      "cell_type": "code",
      "source": [
        "# Import the Markdown class from the IPython.display module\n",
        "# This is used to render Markdown content in the notebook output\n",
        "from IPython.display import Markdown"
      ],
      "metadata": {
        "id": "s7FRIb42LXKS"
      },
      "execution_count": null,
      "outputs": []
    },
    {
      "cell_type": "code",
      "source": [
        "display(Markdown(response.choices[0].message.content))"
      ],
      "metadata": {
        "colab": {
          "base_uri": "https://localhost:8080/",
          "height": 201
        },
        "id": "xM8YEir2LvXO",
        "outputId": "e6f13daa-37b6-426a-e649-3fda5b9227f5"
      },
      "execution_count": null,
      "outputs": [
        {
          "output_type": "display_data",
          "data": {
            "text/plain": [
              "<IPython.core.display.Markdown object>"
            ],
            "text/markdown": "# Basics of Machine Learning\n\nMachine learning (ML) is a field of artificial intelligence (AI) that focuses on teaching computers to learn from data and improve their performance over time without being explicitly programmed for each task. Here are the basic concepts explained simply:\n\n## What is Machine Learning?\n\n- **Learning from Data**: Instead of following specific instructions for every task, a machine learning model learns patterns from data. For example, if we give it a lot of pictures of cats and dogs, it can"
          },
          "metadata": {}
        }
      ]
    },
    {
      "cell_type": "code",
      "source": [
        "display(Markdown(response.choices[1].message.content))"
      ],
      "metadata": {
        "colab": {
          "base_uri": "https://localhost:8080/",
          "height": 225
        },
        "id": "xoImmgYJL2rR",
        "outputId": "2f51a513-2a3c-4bf0-9b07-4cadd5228e8a"
      },
      "execution_count": null,
      "outputs": [
        {
          "output_type": "display_data",
          "data": {
            "text/plain": [
              "<IPython.core.display.Markdown object>"
            ],
            "text/markdown": "# Basics of Machine Learning\n\nMachine learning is a branch of artificial intelligence that focuses on teaching computers to learn from data and make decisions based on that data. Here are the basic concepts broken down in simple terms:\n\n## 1. **What is Machine Learning?**\nMachine learning allows computers to learn from experience (data) without being explicitly programmed for every task. Instead of writing instructions for the computer, we provide it with examples, and it learns to make predictions or decisions based on those examples.\n\n##"
          },
          "metadata": {}
        }
      ]
    },
    {
      "cell_type": "markdown",
      "source": [
        "## **References and Documentation**\n",
        "\n",
        "- [OpenAI Python SDK](https://github.com/openai/openai-python)\n",
        "- [OpenAI API platform](https://platform.openai.com/signup/).\n",
        "- [OpenAI Available models](https://openai.com/api/pricing/)\n",
        "- [Tokenizer](https://platform.openai.com/tokenizer)\n",
        "- [Developer quickstart](https://platform.openai.com/docs/quickstart)\n",
        "- [API Docs](https://platform.openai.com/docs/overview)\n",
        "- [Making requests](https://platform.openai.com/docs/api-reference/making-requests)\n"
      ],
      "metadata": {
        "id": "FM-ViQw5lyG6"
      }
    },
    {
      "cell_type": "markdown",
      "source": [
        "---"
      ],
      "metadata": {
        "id": "YTD3XPHHL72R"
      }
    }
  ]
}